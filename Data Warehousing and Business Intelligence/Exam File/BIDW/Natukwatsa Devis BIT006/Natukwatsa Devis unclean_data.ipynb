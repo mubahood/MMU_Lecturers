{
 "cells": [
  {
   "cell_type": "code",
   "execution_count": 1,
   "id": "4ca2a866",
   "metadata": {},
   "outputs": [],
   "source": [
    "import pandas as pd\n",
    "import seaborn as sns\n",
    "from sklearn.preprocessing import MinMaxScaler\n",
    "from scipy.stats import zscore\n",
    "import numpy as np"
   ]
  },
  {
   "cell_type": "code",
   "execution_count": 3,
   "id": "364951a4",
   "metadata": {},
   "outputs": [
    {
     "data": {
      "text/html": [
       "<div>\n",
       "<style scoped>\n",
       "    .dataframe tbody tr th:only-of-type {\n",
       "        vertical-align: middle;\n",
       "    }\n",
       "\n",
       "    .dataframe tbody tr th {\n",
       "        vertical-align: top;\n",
       "    }\n",
       "\n",
       "    .dataframe thead th {\n",
       "        text-align: right;\n",
       "    }\n",
       "</style>\n",
       "<table border=\"1\" class=\"dataframe\">\n",
       "  <thead>\n",
       "    <tr style=\"text-align: right;\">\n",
       "      <th></th>\n",
       "      <th>ID</th>\n",
       "      <th>No_Pation</th>\n",
       "      <th>Gender</th>\n",
       "      <th>AGE</th>\n",
       "      <th>Urea</th>\n",
       "      <th>Cr</th>\n",
       "      <th>HbA1c</th>\n",
       "      <th>Chol</th>\n",
       "      <th>TG</th>\n",
       "      <th>HDL</th>\n",
       "      <th>LDL</th>\n",
       "      <th>VLDL</th>\n",
       "      <th>BMI</th>\n",
       "      <th>CLASS</th>\n",
       "    </tr>\n",
       "  </thead>\n",
       "  <tbody>\n",
       "    <tr>\n",
       "      <th>0</th>\n",
       "      <td>502</td>\n",
       "      <td>17975</td>\n",
       "      <td>F</td>\n",
       "      <td>50.0</td>\n",
       "      <td>4.7</td>\n",
       "      <td>46.0</td>\n",
       "      <td>4.9</td>\n",
       "      <td>4.2</td>\n",
       "      <td>0.9</td>\n",
       "      <td>2.4</td>\n",
       "      <td>1.4</td>\n",
       "      <td>0.5</td>\n",
       "      <td>24.0</td>\n",
       "      <td>N</td>\n",
       "    </tr>\n",
       "    <tr>\n",
       "      <th>1</th>\n",
       "      <td>735</td>\n",
       "      <td>34221</td>\n",
       "      <td>M</td>\n",
       "      <td>26.0</td>\n",
       "      <td>4.5</td>\n",
       "      <td>62.0</td>\n",
       "      <td>4.9</td>\n",
       "      <td>3.7</td>\n",
       "      <td>1.4</td>\n",
       "      <td>1.1</td>\n",
       "      <td>2.1</td>\n",
       "      <td>0.6</td>\n",
       "      <td>23.0</td>\n",
       "      <td>N</td>\n",
       "    </tr>\n",
       "    <tr>\n",
       "      <th>2</th>\n",
       "      <td>420</td>\n",
       "      <td>47975</td>\n",
       "      <td>F</td>\n",
       "      <td>50.0</td>\n",
       "      <td>4.7</td>\n",
       "      <td>46.0</td>\n",
       "      <td>4.9</td>\n",
       "      <td>4.2</td>\n",
       "      <td>0.9</td>\n",
       "      <td>2.4</td>\n",
       "      <td>1.4</td>\n",
       "      <td>0.5</td>\n",
       "      <td>24.0</td>\n",
       "      <td>N</td>\n",
       "    </tr>\n",
       "    <tr>\n",
       "      <th>3</th>\n",
       "      <td>680</td>\n",
       "      <td>87656</td>\n",
       "      <td>F</td>\n",
       "      <td>50.0</td>\n",
       "      <td>4.7</td>\n",
       "      <td>46.0</td>\n",
       "      <td>4.9</td>\n",
       "      <td>4.2</td>\n",
       "      <td>0.9</td>\n",
       "      <td>2.4</td>\n",
       "      <td>1.4</td>\n",
       "      <td>0.5</td>\n",
       "      <td>24.0</td>\n",
       "      <td>N</td>\n",
       "    </tr>\n",
       "    <tr>\n",
       "      <th>4</th>\n",
       "      <td>504</td>\n",
       "      <td>34223</td>\n",
       "      <td>M</td>\n",
       "      <td>33.0</td>\n",
       "      <td>7.1</td>\n",
       "      <td>46.0</td>\n",
       "      <td>4.9</td>\n",
       "      <td>4.9</td>\n",
       "      <td>1.0</td>\n",
       "      <td>0.8</td>\n",
       "      <td>2.0</td>\n",
       "      <td>0.4</td>\n",
       "      <td>21.0</td>\n",
       "      <td>N</td>\n",
       "    </tr>\n",
       "  </tbody>\n",
       "</table>\n",
       "</div>"
      ],
      "text/plain": [
       "    ID  No_Pation Gender   AGE  Urea    Cr  HbA1c  Chol   TG  HDL  LDL  VLDL  \\\n",
       "0  502      17975      F  50.0   4.7  46.0    4.9   4.2  0.9  2.4  1.4   0.5   \n",
       "1  735      34221      M  26.0   4.5  62.0    4.9   3.7  1.4  1.1  2.1   0.6   \n",
       "2  420      47975      F  50.0   4.7  46.0    4.9   4.2  0.9  2.4  1.4   0.5   \n",
       "3  680      87656      F  50.0   4.7  46.0    4.9   4.2  0.9  2.4  1.4   0.5   \n",
       "4  504      34223      M  33.0   7.1  46.0    4.9   4.9  1.0  0.8  2.0   0.4   \n",
       "\n",
       "    BMI CLASS  \n",
       "0  24.0     N  \n",
       "1  23.0     N  \n",
       "2  24.0     N  \n",
       "3  24.0     N  \n",
       "4  21.0     N  "
      ]
     },
     "execution_count": 3,
     "metadata": {},
     "output_type": "execute_result"
    }
   ],
   "source": [
    "#process of loading data into juypter not book\n",
    "df = pd.read_csv(\"C:/Users/Admin\\Desktop/Natukwatsa Devis BIT006/diabetes_unclean.csv\")\n",
    "df.head()"
   ]
  },
  {
   "cell_type": "code",
   "execution_count": 4,
   "id": "dccf9126",
   "metadata": {},
   "outputs": [
    {
     "data": {
      "text/plain": [
       "Index(['ID', 'No_Pation', 'Gender', 'AGE', 'Urea', 'Cr', 'HbA1c', 'Chol', 'TG',\n",
       "       'HDL', 'LDL', 'VLDL', 'BMI', 'CLASS'],\n",
       "      dtype='object')"
      ]
     },
     "execution_count": 4,
     "metadata": {},
     "output_type": "execute_result"
    }
   ],
   "source": [
    "#checking columns of the dataset\n",
    "df.columns"
   ]
  },
  {
   "cell_type": "code",
   "execution_count": 5,
   "id": "cbdd8366",
   "metadata": {},
   "outputs": [
    {
     "data": {
      "text/html": [
       "<div>\n",
       "<style scoped>\n",
       "    .dataframe tbody tr th:only-of-type {\n",
       "        vertical-align: middle;\n",
       "    }\n",
       "\n",
       "    .dataframe tbody tr th {\n",
       "        vertical-align: top;\n",
       "    }\n",
       "\n",
       "    .dataframe thead th {\n",
       "        text-align: right;\n",
       "    }\n",
       "</style>\n",
       "<table border=\"1\" class=\"dataframe\">\n",
       "  <thead>\n",
       "    <tr style=\"text-align: right;\">\n",
       "      <th></th>\n",
       "      <th>Patients ID</th>\n",
       "      <th>Number of Patients</th>\n",
       "      <th>Sex</th>\n",
       "      <th>Patient Age</th>\n",
       "      <th>Urea</th>\n",
       "      <th>Cr</th>\n",
       "      <th>HbA1c</th>\n",
       "      <th>Chol</th>\n",
       "      <th>TG</th>\n",
       "      <th>HDL</th>\n",
       "      <th>LDL</th>\n",
       "      <th>VLDL</th>\n",
       "      <th>BMI</th>\n",
       "      <th>CLASS</th>\n",
       "    </tr>\n",
       "  </thead>\n",
       "  <tbody>\n",
       "    <tr>\n",
       "      <th>0</th>\n",
       "      <td>502</td>\n",
       "      <td>17975</td>\n",
       "      <td>F</td>\n",
       "      <td>50.0</td>\n",
       "      <td>4.7</td>\n",
       "      <td>46.0</td>\n",
       "      <td>4.9</td>\n",
       "      <td>4.2</td>\n",
       "      <td>0.9</td>\n",
       "      <td>2.4</td>\n",
       "      <td>1.4</td>\n",
       "      <td>0.5</td>\n",
       "      <td>24.0</td>\n",
       "      <td>N</td>\n",
       "    </tr>\n",
       "    <tr>\n",
       "      <th>1</th>\n",
       "      <td>735</td>\n",
       "      <td>34221</td>\n",
       "      <td>M</td>\n",
       "      <td>26.0</td>\n",
       "      <td>4.5</td>\n",
       "      <td>62.0</td>\n",
       "      <td>4.9</td>\n",
       "      <td>3.7</td>\n",
       "      <td>1.4</td>\n",
       "      <td>1.1</td>\n",
       "      <td>2.1</td>\n",
       "      <td>0.6</td>\n",
       "      <td>23.0</td>\n",
       "      <td>N</td>\n",
       "    </tr>\n",
       "    <tr>\n",
       "      <th>2</th>\n",
       "      <td>420</td>\n",
       "      <td>47975</td>\n",
       "      <td>F</td>\n",
       "      <td>50.0</td>\n",
       "      <td>4.7</td>\n",
       "      <td>46.0</td>\n",
       "      <td>4.9</td>\n",
       "      <td>4.2</td>\n",
       "      <td>0.9</td>\n",
       "      <td>2.4</td>\n",
       "      <td>1.4</td>\n",
       "      <td>0.5</td>\n",
       "      <td>24.0</td>\n",
       "      <td>N</td>\n",
       "    </tr>\n",
       "    <tr>\n",
       "      <th>3</th>\n",
       "      <td>680</td>\n",
       "      <td>87656</td>\n",
       "      <td>F</td>\n",
       "      <td>50.0</td>\n",
       "      <td>4.7</td>\n",
       "      <td>46.0</td>\n",
       "      <td>4.9</td>\n",
       "      <td>4.2</td>\n",
       "      <td>0.9</td>\n",
       "      <td>2.4</td>\n",
       "      <td>1.4</td>\n",
       "      <td>0.5</td>\n",
       "      <td>24.0</td>\n",
       "      <td>N</td>\n",
       "    </tr>\n",
       "    <tr>\n",
       "      <th>4</th>\n",
       "      <td>504</td>\n",
       "      <td>34223</td>\n",
       "      <td>M</td>\n",
       "      <td>33.0</td>\n",
       "      <td>7.1</td>\n",
       "      <td>46.0</td>\n",
       "      <td>4.9</td>\n",
       "      <td>4.9</td>\n",
       "      <td>1.0</td>\n",
       "      <td>0.8</td>\n",
       "      <td>2.0</td>\n",
       "      <td>0.4</td>\n",
       "      <td>21.0</td>\n",
       "      <td>N</td>\n",
       "    </tr>\n",
       "  </tbody>\n",
       "</table>\n",
       "</div>"
      ],
      "text/plain": [
       "   Patients ID  Number of Patients Sex  Patient Age   Urea    Cr  HbA1c  Chol  \\\n",
       "0          502               17975   F          50.0   4.7  46.0    4.9   4.2   \n",
       "1          735               34221   M          26.0   4.5  62.0    4.9   3.7   \n",
       "2          420               47975   F          50.0   4.7  46.0    4.9   4.2   \n",
       "3          680               87656   F          50.0   4.7  46.0    4.9   4.2   \n",
       "4          504               34223   M          33.0   7.1  46.0    4.9   4.9   \n",
       "\n",
       "    TG  HDL  LDL  VLDL   BMI CLASS  \n",
       "0  0.9  2.4  1.4   0.5  24.0     N  \n",
       "1  1.4  1.1  2.1   0.6  23.0     N  \n",
       "2  0.9  2.4  1.4   0.5  24.0     N  \n",
       "3  0.9  2.4  1.4   0.5  24.0     N  \n",
       "4  1.0  0.8  2.0   0.4  21.0     N  "
      ]
     },
     "execution_count": 5,
     "metadata": {},
     "output_type": "execute_result"
    }
   ],
   "source": [
    "#renaming the columns in the dataset\n",
    "df.rename(columns={'ID':'Patients ID','No_Pation':'Number of Patients','Gender':'Sex','AGE':'Patient Age '},inplace=True)\n",
    "df.head()"
   ]
  },
  {
   "cell_type": "code",
   "execution_count": 6,
   "id": "d14975bb",
   "metadata": {},
   "outputs": [
    {
     "data": {
      "text/plain": [
       "Patients ID           0\n",
       "Number of Patients    0\n",
       "Sex                   0\n",
       "Patient Age           1\n",
       "Urea                  1\n",
       "Cr                    2\n",
       "HbA1c                 3\n",
       "Chol                  2\n",
       "TG                    2\n",
       "HDL                   1\n",
       "LDL                   2\n",
       "VLDL                  1\n",
       "BMI                   0\n",
       "CLASS                 0\n",
       "dtype: int64"
      ]
     },
     "execution_count": 6,
     "metadata": {},
     "output_type": "execute_result"
    }
   ],
   "source": [
    "#checking for missing values\n",
    "df.isnull().sum()"
   ]
  },
  {
   "cell_type": "code",
   "execution_count": 7,
   "id": "839931b6",
   "metadata": {},
   "outputs": [
    {
     "data": {
      "text/plain": [
       "8.284155069582505"
      ]
     },
     "execution_count": 7,
     "metadata": {},
     "output_type": "execute_result"
    }
   ],
   "source": [
    "mean_value = df['HbA1c'].mean()\n",
    "mean_value"
   ]
  },
  {
   "cell_type": "code",
   "execution_count": 8,
   "id": "84009419",
   "metadata": {},
   "outputs": [
    {
     "data": {
      "text/plain": [
       "Patients ID           0\n",
       "Number of Patients    0\n",
       "Sex                   0\n",
       "Patient Age           0\n",
       "Urea                  0\n",
       "Cr                    0\n",
       "HbA1c                 0\n",
       "Chol                  0\n",
       "TG                    0\n",
       "HDL                   0\n",
       "LDL                   0\n",
       "VLDL                  0\n",
       "BMI                   0\n",
       "CLASS                 0\n",
       "dtype: int64"
      ]
     },
     "execution_count": 8,
     "metadata": {},
     "output_type": "execute_result"
    }
   ],
   "source": [
    "#droping missing values\n",
    "df.dropna(inplace=True)\n",
    "df.isnull().sum()"
   ]
  },
  {
   "cell_type": "code",
   "execution_count": 9,
   "id": "1d7f8e45",
   "metadata": {},
   "outputs": [
    {
     "data": {
      "text/plain": [
       "Patients ID           0\n",
       "Number of Patients    0\n",
       "Sex                   0\n",
       "Patient Age           0\n",
       "Urea                  0\n",
       "Cr                    0\n",
       "HbA1c                 0\n",
       "Chol                  0\n",
       "TG                    0\n",
       "HDL                   0\n",
       "LDL                   0\n",
       "VLDL                  0\n",
       "BMI                   0\n",
       "CLASS                 0\n",
       "dtype: int64"
      ]
     },
     "execution_count": 9,
     "metadata": {},
     "output_type": "execute_result"
    }
   ],
   "source": [
    "#droping missing values\n",
    "df.dropna(inplace=True)\n",
    "df.isnull().sum()"
   ]
  },
  {
   "cell_type": "code",
   "execution_count": 10,
   "id": "c0fc80e1",
   "metadata": {},
   "outputs": [
    {
     "data": {
      "text/plain": [
       "CLASS\n",
       "N     102\n",
       "N       1\n",
       "P      53\n",
       "Y     830\n",
       "Y       8\n",
       "Name: CLASS, dtype: int64"
      ]
     },
     "execution_count": 10,
     "metadata": {},
     "output_type": "execute_result"
    }
   ],
   "source": [
    "#checking for class duplicates \n",
    "df.groupby('CLASS')['CLASS'].agg('count')"
   ]
  },
  {
   "cell_type": "code",
   "execution_count": 11,
   "id": "0d5fcd4f",
   "metadata": {},
   "outputs": [],
   "source": [
    "duplicates = df[df.duplicated()]"
   ]
  },
  {
   "cell_type": "code",
   "execution_count": 12,
   "id": "00c3bbe0",
   "metadata": {},
   "outputs": [
    {
     "ename": "SyntaxError",
     "evalue": "incomplete input (4036626427.py, line 1)",
     "output_type": "error",
     "traceback": [
      "\u001b[1;36m  Cell \u001b[1;32mIn[12], line 1\u001b[1;36m\u001b[0m\n\u001b[1;33m    df['CLASS'].unique(\u001b[0m\n\u001b[1;37m                       ^\u001b[0m\n\u001b[1;31mSyntaxError\u001b[0m\u001b[1;31m:\u001b[0m incomplete input\n"
     ]
    }
   ],
   "source": [
    "df['CLASS'].unique("
   ]
  },
  {
   "cell_type": "code",
   "execution_count": 13,
   "id": "9dd8cea6",
   "metadata": {},
   "outputs": [],
   "source": [
    "df['CLASS'] = df['CLASS'].str.replace('N ','N')\n",
    "df['CLASS'] = df['CLASS'].str.replace('Y ','Y')"
   ]
  },
  {
   "cell_type": "code",
   "execution_count": 14,
   "id": "37740efb",
   "metadata": {},
   "outputs": [
    {
     "data": {
      "text/plain": [
       "array(['N', 'P', 'Y'], dtype=object)"
      ]
     },
     "execution_count": 14,
     "metadata": {},
     "output_type": "execute_result"
    }
   ],
   "source": [
    "df['CLASS'].unique()"
   ]
  },
  {
   "cell_type": "code",
   "execution_count": 15,
   "id": "7d0170c5",
   "metadata": {},
   "outputs": [
    {
     "data": {
      "text/plain": [
       "Sex\n",
       "F    430\n",
       "M    562\n",
       "f      2\n",
       "Name: Sex, dtype: int64"
      ]
     },
     "execution_count": 15,
     "metadata": {},
     "output_type": "execute_result"
    }
   ],
   "source": [
    "#checking for sex duplicates \n",
    "df.groupby('Sex')['Sex'].agg('count')"
   ]
  },
  {
   "cell_type": "code",
   "execution_count": 16,
   "id": "a7d67c48",
   "metadata": {},
   "outputs": [
    {
     "data": {
      "text/plain": [
       "array(['F', 'M', 'f'], dtype=object)"
      ]
     },
     "execution_count": 16,
     "metadata": {},
     "output_type": "execute_result"
    }
   ],
   "source": [
    "df['Sex'].unique()"
   ]
  },
  {
   "cell_type": "code",
   "execution_count": 21,
   "id": "0a9ad983",
   "metadata": {},
   "outputs": [
    {
     "ename": "NameError",
     "evalue": "name 'array' is not defined",
     "output_type": "error",
     "traceback": [
      "\u001b[1;31m---------------------------------------------------------------------------\u001b[0m",
      "\u001b[1;31mNameError\u001b[0m                                 Traceback (most recent call last)",
      "Cell \u001b[1;32mIn[21], line 1\u001b[0m\n\u001b[1;32m----> 1\u001b[0m \u001b[43marray\u001b[49m([\u001b[38;5;124m'\u001b[39m\u001b[38;5;124mF\u001b[39m\u001b[38;5;124m'\u001b[39m, \u001b[38;5;124m'\u001b[39m\u001b[38;5;124mM\u001b[39m\u001b[38;5;124m'\u001b[39m, \u001b[38;5;124m'\u001b[39m\u001b[38;5;124mf\u001b[39m\u001b[38;5;124m'\u001b[39m], dtype\u001b[38;5;241m=\u001b[39m\u001b[38;5;28mobject\u001b[39m)\n",
      "\u001b[1;31mNameError\u001b[0m: name 'array' is not defined"
     ]
    }
   ],
   "source": [
    "array(['F', 'M', 'f'], dtype=object)"
   ]
  },
  {
   "cell_type": "code",
   "execution_count": 22,
   "id": "0c7dadc5",
   "metadata": {},
   "outputs": [
    {
     "data": {
      "text/plain": [
       "<Axes: >"
      ]
     },
     "execution_count": 22,
     "metadata": {},
     "output_type": "execute_result"
    },
    {
     "data": {
      "image/png": "[encoded data removed]",
      "text/plain": [
       "<Figure size 640x480 with 1 Axes>"
      ]
     },
     "metadata": {},
     "output_type": "display_data"
    }
   ],
   "source": [
    "#checking for outliers\n",
    "sns.boxplot(df['Patients ID'])"
   ]
  },
  {
   "cell_type": "code",
   "execution_count": 23,
   "id": "217a67cb",
   "metadata": {},
   "outputs": [
    {
     "data": {
      "text/plain": [
       "<Axes: >"
      ]
     },
     "execution_count": 23,
     "metadata": {},
     "output_type": "execute_result"
    },
    {
     "data": {
      "image/png": "[encoded data removed]",
      "text/plain": [
       "<Figure size 640x480 with 1 Axes>"
      ]
     },
     "metadata": {},
     "output_type": "display_data"
    }
   ],
   "source": [
    "#checking for outliers of HbA1c\n",
    "sns.boxplot(df['HbA1c'])"
   ]
  },
  {
   "cell_type": "code",
   "execution_count": 24,
   "id": "ac776881",
   "metadata": {},
   "outputs": [
    {
     "data": {
      "text/plain": [
       "14.703499999999996"
      ]
     },
     "execution_count": 24,
     "metadata": {},
     "output_type": "execute_result"
    }
   ],
   "source": [
    "#removing outliers\n",
    "max_HbA1c = df['HbA1c'].quantile(0.995)\n",
    "max_HbA1c"
   ]
  },
  {
   "cell_type": "code",
   "execution_count": 25,
   "id": "ed2ac471",
   "metadata": {},
   "outputs": [
    {
     "data": {
      "text/html": [
       "<div>\n",
       "<style scoped>\n",
       "    .dataframe tbody tr th:only-of-type {\n",
       "        vertical-align: middle;\n",
       "    }\n",
       "\n",
       "    .dataframe tbody tr th {\n",
       "        vertical-align: top;\n",
       "    }\n",
       "\n",
       "    .dataframe thead th {\n",
       "        text-align: right;\n",
       "    }\n",
       "</style>\n",
       "<table border=\"1\" class=\"dataframe\">\n",
       "  <thead>\n",
       "    <tr style=\"text-align: right;\">\n",
       "      <th></th>\n",
       "      <th>Patients ID</th>\n",
       "      <th>Number of Patients</th>\n",
       "      <th>Sex</th>\n",
       "      <th>Patient Age</th>\n",
       "      <th>Urea</th>\n",
       "      <th>Cr</th>\n",
       "      <th>HbA1c</th>\n",
       "      <th>Chol</th>\n",
       "      <th>TG</th>\n",
       "      <th>HDL</th>\n",
       "      <th>LDL</th>\n",
       "      <th>VLDL</th>\n",
       "      <th>BMI</th>\n",
       "      <th>CLASS</th>\n",
       "    </tr>\n",
       "  </thead>\n",
       "  <tbody>\n",
       "    <tr>\n",
       "      <th>0</th>\n",
       "      <td>502</td>\n",
       "      <td>17975</td>\n",
       "      <td>F</td>\n",
       "      <td>50.0</td>\n",
       "      <td>4.7</td>\n",
       "      <td>46.0</td>\n",
       "      <td>4.9</td>\n",
       "      <td>4.2</td>\n",
       "      <td>0.9</td>\n",
       "      <td>2.4</td>\n",
       "      <td>1.4</td>\n",
       "      <td>0.5</td>\n",
       "      <td>24.0</td>\n",
       "      <td>N</td>\n",
       "    </tr>\n",
       "    <tr>\n",
       "      <th>1</th>\n",
       "      <td>735</td>\n",
       "      <td>34221</td>\n",
       "      <td>M</td>\n",
       "      <td>26.0</td>\n",
       "      <td>4.5</td>\n",
       "      <td>62.0</td>\n",
       "      <td>4.9</td>\n",
       "      <td>3.7</td>\n",
       "      <td>1.4</td>\n",
       "      <td>1.1</td>\n",
       "      <td>2.1</td>\n",
       "      <td>0.6</td>\n",
       "      <td>23.0</td>\n",
       "      <td>N</td>\n",
       "    </tr>\n",
       "    <tr>\n",
       "      <th>2</th>\n",
       "      <td>420</td>\n",
       "      <td>47975</td>\n",
       "      <td>F</td>\n",
       "      <td>50.0</td>\n",
       "      <td>4.7</td>\n",
       "      <td>46.0</td>\n",
       "      <td>4.9</td>\n",
       "      <td>4.2</td>\n",
       "      <td>0.9</td>\n",
       "      <td>2.4</td>\n",
       "      <td>1.4</td>\n",
       "      <td>0.5</td>\n",
       "      <td>24.0</td>\n",
       "      <td>N</td>\n",
       "    </tr>\n",
       "    <tr>\n",
       "      <th>3</th>\n",
       "      <td>680</td>\n",
       "      <td>87656</td>\n",
       "      <td>F</td>\n",
       "      <td>50.0</td>\n",
       "      <td>4.7</td>\n",
       "      <td>46.0</td>\n",
       "      <td>4.9</td>\n",
       "      <td>4.2</td>\n",
       "      <td>0.9</td>\n",
       "      <td>2.4</td>\n",
       "      <td>1.4</td>\n",
       "      <td>0.5</td>\n",
       "      <td>24.0</td>\n",
       "      <td>N</td>\n",
       "    </tr>\n",
       "    <tr>\n",
       "      <th>4</th>\n",
       "      <td>504</td>\n",
       "      <td>34223</td>\n",
       "      <td>M</td>\n",
       "      <td>33.0</td>\n",
       "      <td>7.1</td>\n",
       "      <td>46.0</td>\n",
       "      <td>4.9</td>\n",
       "      <td>4.9</td>\n",
       "      <td>1.0</td>\n",
       "      <td>0.8</td>\n",
       "      <td>2.0</td>\n",
       "      <td>0.4</td>\n",
       "      <td>21.0</td>\n",
       "      <td>N</td>\n",
       "    </tr>\n",
       "    <tr>\n",
       "      <th>...</th>\n",
       "      <td>...</td>\n",
       "      <td>...</td>\n",
       "      <td>...</td>\n",
       "      <td>...</td>\n",
       "      <td>...</td>\n",
       "      <td>...</td>\n",
       "      <td>...</td>\n",
       "      <td>...</td>\n",
       "      <td>...</td>\n",
       "      <td>...</td>\n",
       "      <td>...</td>\n",
       "      <td>...</td>\n",
       "      <td>...</td>\n",
       "      <td>...</td>\n",
       "    </tr>\n",
       "    <tr>\n",
       "      <th>1000</th>\n",
       "      <td>185</td>\n",
       "      <td>454316</td>\n",
       "      <td>M</td>\n",
       "      <td>64.0</td>\n",
       "      <td>8.8</td>\n",
       "      <td>106.0</td>\n",
       "      <td>8.5</td>\n",
       "      <td>5.9</td>\n",
       "      <td>2.1</td>\n",
       "      <td>1.2</td>\n",
       "      <td>4.0</td>\n",
       "      <td>1.2</td>\n",
       "      <td>32.0</td>\n",
       "      <td>Y</td>\n",
       "    </tr>\n",
       "    <tr>\n",
       "      <th>1002</th>\n",
       "      <td>188</td>\n",
       "      <td>454316</td>\n",
       "      <td>F</td>\n",
       "      <td>75.0</td>\n",
       "      <td>10.3</td>\n",
       "      <td>113.0</td>\n",
       "      <td>8.6</td>\n",
       "      <td>4.2</td>\n",
       "      <td>1.6</td>\n",
       "      <td>0.9</td>\n",
       "      <td>2.6</td>\n",
       "      <td>0.7</td>\n",
       "      <td>32.0</td>\n",
       "      <td>Y</td>\n",
       "    </tr>\n",
       "    <tr>\n",
       "      <th>1003</th>\n",
       "      <td>189</td>\n",
       "      <td>454316</td>\n",
       "      <td>M</td>\n",
       "      <td>58.0</td>\n",
       "      <td>4.0</td>\n",
       "      <td>55.0</td>\n",
       "      <td>7.9</td>\n",
       "      <td>4.9</td>\n",
       "      <td>2.0</td>\n",
       "      <td>1.2</td>\n",
       "      <td>1.4</td>\n",
       "      <td>1.1</td>\n",
       "      <td>35.0</td>\n",
       "      <td>Y</td>\n",
       "    </tr>\n",
       "    <tr>\n",
       "      <th>1007</th>\n",
       "      <td>194</td>\n",
       "      <td>454316</td>\n",
       "      <td>F</td>\n",
       "      <td>57.0</td>\n",
       "      <td>4.1</td>\n",
       "      <td>70.0</td>\n",
       "      <td>9.3</td>\n",
       "      <td>5.3</td>\n",
       "      <td>3.3</td>\n",
       "      <td>1.0</td>\n",
       "      <td>1.4</td>\n",
       "      <td>1.3</td>\n",
       "      <td>29.0</td>\n",
       "      <td>Y</td>\n",
       "    </tr>\n",
       "    <tr>\n",
       "      <th>1008</th>\n",
       "      <td>195</td>\n",
       "      <td>4543</td>\n",
       "      <td>f</td>\n",
       "      <td>55.0</td>\n",
       "      <td>4.1</td>\n",
       "      <td>34.0</td>\n",
       "      <td>13.9</td>\n",
       "      <td>5.4</td>\n",
       "      <td>1.6</td>\n",
       "      <td>1.6</td>\n",
       "      <td>3.1</td>\n",
       "      <td>0.7</td>\n",
       "      <td>33.0</td>\n",
       "      <td>Y</td>\n",
       "    </tr>\n",
       "  </tbody>\n",
       "</table>\n",
       "<p>989 rows × 14 columns</p>\n",
       "</div>"
      ],
      "text/plain": [
       "      Patients ID  Number of Patients Sex  Patient Age   Urea     Cr  HbA1c  \\\n",
       "0             502               17975   F          50.0   4.7   46.0    4.9   \n",
       "1             735               34221   M          26.0   4.5   62.0    4.9   \n",
       "2             420               47975   F          50.0   4.7   46.0    4.9   \n",
       "3             680               87656   F          50.0   4.7   46.0    4.9   \n",
       "4             504               34223   M          33.0   7.1   46.0    4.9   \n",
       "...           ...                 ...  ..           ...   ...    ...    ...   \n",
       "1000          185              454316   M          64.0   8.8  106.0    8.5   \n",
       "1002          188              454316   F          75.0  10.3  113.0    8.6   \n",
       "1003          189              454316   M          58.0   4.0   55.0    7.9   \n",
       "1007          194              454316   F          57.0   4.1   70.0    9.3   \n",
       "1008          195                4543   f          55.0   4.1   34.0   13.9   \n",
       "\n",
       "      Chol   TG  HDL  LDL  VLDL   BMI CLASS  \n",
       "0      4.2  0.9  2.4  1.4   0.5  24.0     N  \n",
       "1      3.7  1.4  1.1  2.1   0.6  23.0     N  \n",
       "2      4.2  0.9  2.4  1.4   0.5  24.0     N  \n",
       "3      4.2  0.9  2.4  1.4   0.5  24.0     N  \n",
       "4      4.9  1.0  0.8  2.0   0.4  21.0     N  \n",
       "...    ...  ...  ...  ...   ...   ...   ...  \n",
       "1000   5.9  2.1  1.2  4.0   1.2  32.0     Y  \n",
       "1002   4.2  1.6  0.9  2.6   0.7  32.0     Y  \n",
       "1003   4.9  2.0  1.2  1.4   1.1  35.0     Y  \n",
       "1007   5.3  3.3  1.0  1.4   1.3  29.0     Y  \n",
       "1008   5.4  1.6  1.6  3.1   0.7  33.0     Y  \n",
       "\n",
       "[989 rows x 14 columns]"
      ]
     },
     "execution_count": 25,
     "metadata": {},
     "output_type": "execute_result"
    }
   ],
   "source": [
    "df[df['HbA1c']<max_HbA1c]"
   ]
  },
  {
   "cell_type": "code",
   "execution_count": 26,
   "id": "1c284685",
   "metadata": {},
   "outputs": [
    {
     "data": {
      "text/html": [
       "<div>\n",
       "<style scoped>\n",
       "    .dataframe tbody tr th:only-of-type {\n",
       "        vertical-align: middle;\n",
       "    }\n",
       "\n",
       "    .dataframe tbody tr th {\n",
       "        vertical-align: top;\n",
       "    }\n",
       "\n",
       "    .dataframe thead th {\n",
       "        text-align: right;\n",
       "    }\n",
       "</style>\n",
       "<table border=\"1\" class=\"dataframe\">\n",
       "  <thead>\n",
       "    <tr style=\"text-align: right;\">\n",
       "      <th></th>\n",
       "      <th>Patients ID</th>\n",
       "      <th>Number of Patients</th>\n",
       "      <th>Sex</th>\n",
       "      <th>Patient Age</th>\n",
       "      <th>Urea</th>\n",
       "      <th>Cr</th>\n",
       "      <th>HbA1c</th>\n",
       "      <th>Chol</th>\n",
       "      <th>TG</th>\n",
       "      <th>HDL</th>\n",
       "      <th>LDL</th>\n",
       "      <th>VLDL</th>\n",
       "      <th>BMI</th>\n",
       "      <th>CLASS</th>\n",
       "    </tr>\n",
       "  </thead>\n",
       "  <tbody>\n",
       "    <tr>\n",
       "      <th>0</th>\n",
       "      <td>502</td>\n",
       "      <td>17975</td>\n",
       "      <td>F</td>\n",
       "      <td>50.0</td>\n",
       "      <td>4.7</td>\n",
       "      <td>46.0</td>\n",
       "      <td>4.9</td>\n",
       "      <td>4.2</td>\n",
       "      <td>0.9</td>\n",
       "      <td>2.4</td>\n",
       "      <td>1.4</td>\n",
       "      <td>0.5</td>\n",
       "      <td>24.0</td>\n",
       "      <td>N</td>\n",
       "    </tr>\n",
       "    <tr>\n",
       "      <th>1</th>\n",
       "      <td>735</td>\n",
       "      <td>34221</td>\n",
       "      <td>M</td>\n",
       "      <td>26.0</td>\n",
       "      <td>4.5</td>\n",
       "      <td>62.0</td>\n",
       "      <td>4.9</td>\n",
       "      <td>3.7</td>\n",
       "      <td>1.4</td>\n",
       "      <td>1.1</td>\n",
       "      <td>2.1</td>\n",
       "      <td>0.6</td>\n",
       "      <td>23.0</td>\n",
       "      <td>N</td>\n",
       "    </tr>\n",
       "    <tr>\n",
       "      <th>2</th>\n",
       "      <td>420</td>\n",
       "      <td>47975</td>\n",
       "      <td>F</td>\n",
       "      <td>50.0</td>\n",
       "      <td>4.7</td>\n",
       "      <td>46.0</td>\n",
       "      <td>4.9</td>\n",
       "      <td>4.2</td>\n",
       "      <td>0.9</td>\n",
       "      <td>2.4</td>\n",
       "      <td>1.4</td>\n",
       "      <td>0.5</td>\n",
       "      <td>24.0</td>\n",
       "      <td>N</td>\n",
       "    </tr>\n",
       "    <tr>\n",
       "      <th>3</th>\n",
       "      <td>680</td>\n",
       "      <td>87656</td>\n",
       "      <td>F</td>\n",
       "      <td>50.0</td>\n",
       "      <td>4.7</td>\n",
       "      <td>46.0</td>\n",
       "      <td>4.9</td>\n",
       "      <td>4.2</td>\n",
       "      <td>0.9</td>\n",
       "      <td>2.4</td>\n",
       "      <td>1.4</td>\n",
       "      <td>0.5</td>\n",
       "      <td>24.0</td>\n",
       "      <td>N</td>\n",
       "    </tr>\n",
       "    <tr>\n",
       "      <th>4</th>\n",
       "      <td>504</td>\n",
       "      <td>34223</td>\n",
       "      <td>M</td>\n",
       "      <td>33.0</td>\n",
       "      <td>7.1</td>\n",
       "      <td>46.0</td>\n",
       "      <td>4.9</td>\n",
       "      <td>4.9</td>\n",
       "      <td>1.0</td>\n",
       "      <td>0.8</td>\n",
       "      <td>2.0</td>\n",
       "      <td>0.4</td>\n",
       "      <td>21.0</td>\n",
       "      <td>N</td>\n",
       "    </tr>\n",
       "  </tbody>\n",
       "</table>\n",
       "</div>"
      ],
      "text/plain": [
       "   Patients ID  Number of Patients Sex  Patient Age   Urea    Cr  HbA1c  Chol  \\\n",
       "0          502               17975   F          50.0   4.7  46.0    4.9   4.2   \n",
       "1          735               34221   M          26.0   4.5  62.0    4.9   3.7   \n",
       "2          420               47975   F          50.0   4.7  46.0    4.9   4.2   \n",
       "3          680               87656   F          50.0   4.7  46.0    4.9   4.2   \n",
       "4          504               34223   M          33.0   7.1  46.0    4.9   4.9   \n",
       "\n",
       "    TG  HDL  LDL  VLDL   BMI CLASS  \n",
       "0  0.9  2.4  1.4   0.5  24.0     N  \n",
       "1  1.4  1.1  2.1   0.6  23.0     N  \n",
       "2  0.9  2.4  1.4   0.5  24.0     N  \n",
       "3  0.9  2.4  1.4   0.5  24.0     N  \n",
       "4  1.0  0.8  2.0   0.4  21.0     N  "
      ]
     },
     "execution_count": 26,
     "metadata": {},
     "output_type": "execute_result"
    }
   ],
   "source": [
    "df1=df[df['HbA1c']<max_HbA1c]\n",
    "df1.head()"
   ]
  },
  {
   "cell_type": "code",
   "execution_count": 27,
   "id": "9dfd0cfb",
   "metadata": {},
   "outputs": [
    {
     "data": {
      "text/plain": [
       "<Axes: >"
      ]
     },
     "execution_count": 27,
     "metadata": {},
     "output_type": "execute_result"
    },
    {
     "data": {
      "image/png": "[encoded data removed]",
      "text/plain": [
       "<Figure size 640x480 with 1 Axes>"
      ]
     },
     "metadata": {},
     "output_type": "display_data"
    }
   ],
   "source": [
    "sns.boxplot(df1['HbA1c'])"
   ]
  },
  {
   "cell_type": "code",
   "execution_count": 28,
   "id": "30c43ab8",
   "metadata": {},
   "outputs": [],
   "source": [
    "#saving the work\n",
    "df1.to_csv('Devis_clean_dataset.csv')"
   ]
  },
  {
   "cell_type": "code",
   "execution_count": null,
   "id": "8fa76d14",
   "metadata": {},
   "outputs": [],
   "source": [
    "\n"
   ]
  },
  {
   "cell_type": "code",
   "execution_count": 30,
   "id": "66f0c77e",
   "metadata": {},
   "outputs": [],
   "source": [
    "import pandas as pd\n",
    "import base64\n",
    "from sklearn.model_selection import train_test_split\n",
    "from sklearn.linear_model import LogisticRegression\n",
    "from sklearn.metrics import accuracy_score, precision_score, recall_score, f1_score\n",
    "from sklearn.preprocessing import LabelEncoder"
   ]
  },
  {
   "cell_type": "code",
   "execution_count": 31,
   "id": "e38c185f",
   "metadata": {},
   "outputs": [
    {
     "data": {
      "text/html": [
       "<div>\n",
       "<style scoped>\n",
       "    .dataframe tbody tr th:only-of-type {\n",
       "        vertical-align: middle;\n",
       "    }\n",
       "\n",
       "    .dataframe tbody tr th {\n",
       "        vertical-align: top;\n",
       "    }\n",
       "\n",
       "    .dataframe thead th {\n",
       "        text-align: right;\n",
       "    }\n",
       "</style>\n",
       "<table border=\"1\" class=\"dataframe\">\n",
       "  <thead>\n",
       "    <tr style=\"text-align: right;\">\n",
       "      <th></th>\n",
       "      <th>ID</th>\n",
       "      <th>No_Pation</th>\n",
       "      <th>Gender</th>\n",
       "      <th>AGE</th>\n",
       "      <th>Urea</th>\n",
       "      <th>Cr</th>\n",
       "      <th>HbA1c</th>\n",
       "      <th>Chol</th>\n",
       "      <th>TG</th>\n",
       "      <th>HDL</th>\n",
       "      <th>LDL</th>\n",
       "      <th>VLDL</th>\n",
       "      <th>BMI</th>\n",
       "      <th>CLASS</th>\n",
       "    </tr>\n",
       "  </thead>\n",
       "  <tbody>\n",
       "    <tr>\n",
       "      <th>0</th>\n",
       "      <td>502</td>\n",
       "      <td>17975</td>\n",
       "      <td>F</td>\n",
       "      <td>50.0</td>\n",
       "      <td>4.7</td>\n",
       "      <td>46.0</td>\n",
       "      <td>4.9</td>\n",
       "      <td>4.2</td>\n",
       "      <td>0.9</td>\n",
       "      <td>2.4</td>\n",
       "      <td>1.4</td>\n",
       "      <td>0.5</td>\n",
       "      <td>24.0</td>\n",
       "      <td>N</td>\n",
       "    </tr>\n",
       "    <tr>\n",
       "      <th>1</th>\n",
       "      <td>735</td>\n",
       "      <td>34221</td>\n",
       "      <td>M</td>\n",
       "      <td>26.0</td>\n",
       "      <td>4.5</td>\n",
       "      <td>62.0</td>\n",
       "      <td>4.9</td>\n",
       "      <td>3.7</td>\n",
       "      <td>1.4</td>\n",
       "      <td>1.1</td>\n",
       "      <td>2.1</td>\n",
       "      <td>0.6</td>\n",
       "      <td>23.0</td>\n",
       "      <td>N</td>\n",
       "    </tr>\n",
       "    <tr>\n",
       "      <th>2</th>\n",
       "      <td>420</td>\n",
       "      <td>47975</td>\n",
       "      <td>F</td>\n",
       "      <td>50.0</td>\n",
       "      <td>4.7</td>\n",
       "      <td>46.0</td>\n",
       "      <td>4.9</td>\n",
       "      <td>4.2</td>\n",
       "      <td>0.9</td>\n",
       "      <td>2.4</td>\n",
       "      <td>1.4</td>\n",
       "      <td>0.5</td>\n",
       "      <td>24.0</td>\n",
       "      <td>N</td>\n",
       "    </tr>\n",
       "    <tr>\n",
       "      <th>3</th>\n",
       "      <td>680</td>\n",
       "      <td>87656</td>\n",
       "      <td>F</td>\n",
       "      <td>50.0</td>\n",
       "      <td>4.7</td>\n",
       "      <td>46.0</td>\n",
       "      <td>4.9</td>\n",
       "      <td>4.2</td>\n",
       "      <td>0.9</td>\n",
       "      <td>2.4</td>\n",
       "      <td>1.4</td>\n",
       "      <td>0.5</td>\n",
       "      <td>24.0</td>\n",
       "      <td>N</td>\n",
       "    </tr>\n",
       "    <tr>\n",
       "      <th>4</th>\n",
       "      <td>504</td>\n",
       "      <td>34223</td>\n",
       "      <td>M</td>\n",
       "      <td>33.0</td>\n",
       "      <td>7.1</td>\n",
       "      <td>46.0</td>\n",
       "      <td>4.9</td>\n",
       "      <td>4.9</td>\n",
       "      <td>1.0</td>\n",
       "      <td>0.8</td>\n",
       "      <td>2.0</td>\n",
       "      <td>0.4</td>\n",
       "      <td>21.0</td>\n",
       "      <td>N</td>\n",
       "    </tr>\n",
       "  </tbody>\n",
       "</table>\n",
       "</div>"
      ],
      "text/plain": [
       "    ID  No_Pation Gender   AGE  Urea    Cr  HbA1c  Chol   TG  HDL  LDL  VLDL  \\\n",
       "0  502      17975      F  50.0   4.7  46.0    4.9   4.2  0.9  2.4  1.4   0.5   \n",
       "1  735      34221      M  26.0   4.5  62.0    4.9   3.7  1.4  1.1  2.1   0.6   \n",
       "2  420      47975      F  50.0   4.7  46.0    4.9   4.2  0.9  2.4  1.4   0.5   \n",
       "3  680      87656      F  50.0   4.7  46.0    4.9   4.2  0.9  2.4  1.4   0.5   \n",
       "4  504      34223      M  33.0   7.1  46.0    4.9   4.9  1.0  0.8  2.0   0.4   \n",
       "\n",
       "    BMI CLASS  \n",
       "0  24.0     N  \n",
       "1  23.0     N  \n",
       "2  24.0     N  \n",
       "3  24.0     N  \n",
       "4  21.0     N  "
      ]
     },
     "execution_count": 31,
     "metadata": {},
     "output_type": "execute_result"
    }
   ],
   "source": [
    "#loading the clean data set into the system\n",
    "df1 = pd.read_csv(\"C:/Users/Admin\\Desktop/Natukwatsa Devis BIT006/diabetes_unclean.csv\")\n",
    "df1.head()"
   ]
  },
  {
   "cell_type": "code",
   "execution_count": 39,
   "id": "d068bfce",
   "metadata": {},
   "outputs": [
    {
     "data": {
      "text/plain": [
       "Index(['ID', 'No_Pation', 'Gender', 'AGE', 'Urea', 'Cr', 'HbA1c', 'Chol', 'TG',\n",
       "       'HDL', 'LDL', 'VLDL', 'BMI', 'CLASS'],\n",
       "      dtype='object')"
      ]
     },
     "execution_count": 39,
     "metadata": {},
     "output_type": "execute_result"
    }
   ],
   "source": [
    "#showing data columns in the clean data set\n",
    "df1.columns"
   ]
  },
  {
   "cell_type": "markdown",
   "id": "a5caf655",
   "metadata": {},
   "source": [
    "#selecting few data from the data set that to be used\n",
    "df1=df1[['Unnamed: 0', 'Patients ID', 'Number of Patients', 'Sex', 'Patient Age ', 'Urea', 'Cr']]\n",
    "df1.head()"
   ]
  },
  {
   "cell_type": "code",
   "execution_count": 40,
   "id": "b0449302",
   "metadata": {},
   "outputs": [
    {
     "name": "stderr",
     "output_type": "stream",
     "text": [
      "C:\\Users\\Admin\\AppData\\Local\\Temp\\ipykernel_8376\\3494850148.py:3: FutureWarning: The default value of numeric_only in DataFrame.corr is deprecated. In a future version, it will default to False. Select only valid columns or specify the value of numeric_only to silence this warning.\n",
      "  cor=df1.corr()\n"
     ]
    },
    {
     "data": {
      "text/html": [
       "<div>\n",
       "<style scoped>\n",
       "    .dataframe tbody tr th:only-of-type {\n",
       "        vertical-align: middle;\n",
       "    }\n",
       "\n",
       "    .dataframe tbody tr th {\n",
       "        vertical-align: top;\n",
       "    }\n",
       "\n",
       "    .dataframe thead th {\n",
       "        text-align: right;\n",
       "    }\n",
       "</style>\n",
       "<table border=\"1\" class=\"dataframe\">\n",
       "  <thead>\n",
       "    <tr style=\"text-align: right;\">\n",
       "      <th></th>\n",
       "      <th>ID</th>\n",
       "      <th>No_Pation</th>\n",
       "      <th>AGE</th>\n",
       "      <th>Urea</th>\n",
       "      <th>Cr</th>\n",
       "      <th>HbA1c</th>\n",
       "      <th>Chol</th>\n",
       "      <th>TG</th>\n",
       "      <th>HDL</th>\n",
       "      <th>LDL</th>\n",
       "      <th>VLDL</th>\n",
       "      <th>BMI</th>\n",
       "    </tr>\n",
       "  </thead>\n",
       "  <tbody>\n",
       "    <tr>\n",
       "      <th>ID</th>\n",
       "      <td>1.000000</td>\n",
       "      <td>0.064584</td>\n",
       "      <td>-0.072858</td>\n",
       "      <td>-0.095439</td>\n",
       "      <td>-0.102539</td>\n",
       "      <td>-0.008293</td>\n",
       "      <td>0.043999</td>\n",
       "      <td>-0.055433</td>\n",
       "      <td>0.026714</td>\n",
       "      <td>-0.064138</td>\n",
       "      <td>0.146575</td>\n",
       "      <td>0.047768</td>\n",
       "    </tr>\n",
       "    <tr>\n",
       "      <th>No_Pation</th>\n",
       "      <td>0.064584</td>\n",
       "      <td>1.000000</td>\n",
       "      <td>-0.088153</td>\n",
       "      <td>-0.018946</td>\n",
       "      <td>0.000853</td>\n",
       "      <td>-0.032219</td>\n",
       "      <td>-0.030054</td>\n",
       "      <td>-0.039816</td>\n",
       "      <td>-0.013493</td>\n",
       "      <td>-0.003245</td>\n",
       "      <td>0.113707</td>\n",
       "      <td>0.017736</td>\n",
       "    </tr>\n",
       "    <tr>\n",
       "      <th>AGE</th>\n",
       "      <td>-0.072858</td>\n",
       "      <td>-0.088153</td>\n",
       "      <td>1.000000</td>\n",
       "      <td>0.110137</td>\n",
       "      <td>0.057138</td>\n",
       "      <td>0.381044</td>\n",
       "      <td>0.036421</td>\n",
       "      <td>0.145743</td>\n",
       "      <td>-0.022627</td>\n",
       "      <td>0.014999</td>\n",
       "      <td>-0.090273</td>\n",
       "      <td>0.378948</td>\n",
       "    </tr>\n",
       "    <tr>\n",
       "      <th>Urea</th>\n",
       "      <td>-0.095439</td>\n",
       "      <td>-0.018946</td>\n",
       "      <td>0.110137</td>\n",
       "      <td>1.000000</td>\n",
       "      <td>0.624538</td>\n",
       "      <td>-0.024170</td>\n",
       "      <td>0.000775</td>\n",
       "      <td>0.039616</td>\n",
       "      <td>-0.037888</td>\n",
       "      <td>-0.004906</td>\n",
       "      <td>-0.011707</td>\n",
       "      <td>0.046344</td>\n",
       "    </tr>\n",
       "    <tr>\n",
       "      <th>Cr</th>\n",
       "      <td>-0.102539</td>\n",
       "      <td>0.000853</td>\n",
       "      <td>0.057138</td>\n",
       "      <td>0.624538</td>\n",
       "      <td>1.000000</td>\n",
       "      <td>-0.038256</td>\n",
       "      <td>-0.007121</td>\n",
       "      <td>0.056757</td>\n",
       "      <td>-0.024305</td>\n",
       "      <td>0.040659</td>\n",
       "      <td>0.009668</td>\n",
       "      <td>0.055041</td>\n",
       "    </tr>\n",
       "    <tr>\n",
       "      <th>HbA1c</th>\n",
       "      <td>-0.008293</td>\n",
       "      <td>-0.032219</td>\n",
       "      <td>0.381044</td>\n",
       "      <td>-0.024170</td>\n",
       "      <td>-0.038256</td>\n",
       "      <td>1.000000</td>\n",
       "      <td>0.178141</td>\n",
       "      <td>0.215808</td>\n",
       "      <td>0.030376</td>\n",
       "      <td>0.012253</td>\n",
       "      <td>0.072620</td>\n",
       "      <td>0.413166</td>\n",
       "    </tr>\n",
       "    <tr>\n",
       "      <th>Chol</th>\n",
       "      <td>0.043999</td>\n",
       "      <td>-0.030054</td>\n",
       "      <td>0.036421</td>\n",
       "      <td>0.000775</td>\n",
       "      <td>-0.007121</td>\n",
       "      <td>0.178141</td>\n",
       "      <td>1.000000</td>\n",
       "      <td>0.322149</td>\n",
       "      <td>0.103302</td>\n",
       "      <td>0.418649</td>\n",
       "      <td>0.076389</td>\n",
       "      <td>0.014214</td>\n",
       "    </tr>\n",
       "    <tr>\n",
       "      <th>TG</th>\n",
       "      <td>-0.055433</td>\n",
       "      <td>-0.039816</td>\n",
       "      <td>0.145743</td>\n",
       "      <td>0.039616</td>\n",
       "      <td>0.056757</td>\n",
       "      <td>0.215808</td>\n",
       "      <td>0.322149</td>\n",
       "      <td>1.000000</td>\n",
       "      <td>-0.082915</td>\n",
       "      <td>0.013799</td>\n",
       "      <td>0.145008</td>\n",
       "      <td>0.109107</td>\n",
       "    </tr>\n",
       "    <tr>\n",
       "      <th>HDL</th>\n",
       "      <td>0.026714</td>\n",
       "      <td>-0.013493</td>\n",
       "      <td>-0.022627</td>\n",
       "      <td>-0.037888</td>\n",
       "      <td>-0.024305</td>\n",
       "      <td>0.030376</td>\n",
       "      <td>0.103302</td>\n",
       "      <td>-0.082915</td>\n",
       "      <td>1.000000</td>\n",
       "      <td>-0.142102</td>\n",
       "      <td>-0.059097</td>\n",
       "      <td>0.072361</td>\n",
       "    </tr>\n",
       "    <tr>\n",
       "      <th>LDL</th>\n",
       "      <td>-0.064138</td>\n",
       "      <td>-0.003245</td>\n",
       "      <td>0.014999</td>\n",
       "      <td>-0.004906</td>\n",
       "      <td>0.040659</td>\n",
       "      <td>0.012253</td>\n",
       "      <td>0.418649</td>\n",
       "      <td>0.013799</td>\n",
       "      <td>-0.142102</td>\n",
       "      <td>1.000000</td>\n",
       "      <td>0.061649</td>\n",
       "      <td>-0.065525</td>\n",
       "    </tr>\n",
       "    <tr>\n",
       "      <th>VLDL</th>\n",
       "      <td>0.146575</td>\n",
       "      <td>0.113707</td>\n",
       "      <td>-0.090273</td>\n",
       "      <td>-0.011707</td>\n",
       "      <td>0.009668</td>\n",
       "      <td>0.072620</td>\n",
       "      <td>0.076389</td>\n",
       "      <td>0.145008</td>\n",
       "      <td>-0.059097</td>\n",
       "      <td>0.061649</td>\n",
       "      <td>1.000000</td>\n",
       "      <td>0.196992</td>\n",
       "    </tr>\n",
       "    <tr>\n",
       "      <th>BMI</th>\n",
       "      <td>0.047768</td>\n",
       "      <td>0.017736</td>\n",
       "      <td>0.378948</td>\n",
       "      <td>0.046344</td>\n",
       "      <td>0.055041</td>\n",
       "      <td>0.413166</td>\n",
       "      <td>0.014214</td>\n",
       "      <td>0.109107</td>\n",
       "      <td>0.072361</td>\n",
       "      <td>-0.065525</td>\n",
       "      <td>0.196992</td>\n",
       "      <td>1.000000</td>\n",
       "    </tr>\n",
       "  </tbody>\n",
       "</table>\n",
       "</div>"
      ],
      "text/plain": [
       "                 ID  No_Pation       AGE      Urea        Cr     HbA1c  \\\n",
       "ID         1.000000   0.064584 -0.072858 -0.095439 -0.102539 -0.008293   \n",
       "No_Pation  0.064584   1.000000 -0.088153 -0.018946  0.000853 -0.032219   \n",
       "AGE       -0.072858  -0.088153  1.000000  0.110137  0.057138  0.381044   \n",
       "Urea      -0.095439  -0.018946  0.110137  1.000000  0.624538 -0.024170   \n",
       "Cr        -0.102539   0.000853  0.057138  0.624538  1.000000 -0.038256   \n",
       "HbA1c     -0.008293  -0.032219  0.381044 -0.024170 -0.038256  1.000000   \n",
       "Chol       0.043999  -0.030054  0.036421  0.000775 -0.007121  0.178141   \n",
       "TG        -0.055433  -0.039816  0.145743  0.039616  0.056757  0.215808   \n",
       "HDL        0.026714  -0.013493 -0.022627 -0.037888 -0.024305  0.030376   \n",
       "LDL       -0.064138  -0.003245  0.014999 -0.004906  0.040659  0.012253   \n",
       "VLDL       0.146575   0.113707 -0.090273 -0.011707  0.009668  0.072620   \n",
       "BMI        0.047768   0.017736  0.378948  0.046344  0.055041  0.413166   \n",
       "\n",
       "               Chol        TG       HDL       LDL      VLDL       BMI  \n",
       "ID         0.043999 -0.055433  0.026714 -0.064138  0.146575  0.047768  \n",
       "No_Pation -0.030054 -0.039816 -0.013493 -0.003245  0.113707  0.017736  \n",
       "AGE        0.036421  0.145743 -0.022627  0.014999 -0.090273  0.378948  \n",
       "Urea       0.000775  0.039616 -0.037888 -0.004906 -0.011707  0.046344  \n",
       "Cr        -0.007121  0.056757 -0.024305  0.040659  0.009668  0.055041  \n",
       "HbA1c      0.178141  0.215808  0.030376  0.012253  0.072620  0.413166  \n",
       "Chol       1.000000  0.322149  0.103302  0.418649  0.076389  0.014214  \n",
       "TG         0.322149  1.000000 -0.082915  0.013799  0.145008  0.109107  \n",
       "HDL        0.103302 -0.082915  1.000000 -0.142102 -0.059097  0.072361  \n",
       "LDL        0.418649  0.013799 -0.142102  1.000000  0.061649 -0.065525  \n",
       "VLDL       0.076389  0.145008 -0.059097  0.061649  1.000000  0.196992  \n",
       "BMI        0.014214  0.109107  0.072361 -0.065525  0.196992  1.000000  "
      ]
     },
     "execution_count": 40,
     "metadata": {},
     "output_type": "execute_result"
    }
   ],
   "source": [
    "#showing the data corrolation\n",
    "import matplotlib.pyplot as plt\n",
    "cor=df1.corr()\n",
    "cor"
   ]
  },
  {
   "cell_type": "code",
   "execution_count": 41,
   "id": "9cf3b144",
   "metadata": {},
   "outputs": [
    {
     "data": {
      "text/plain": [
       "<Axes: >"
      ]
     },
     "execution_count": 41,
     "metadata": {},
     "output_type": "execute_result"
    },
    {
     "data": {
      "image/png": "[encoded data removed]",
      "text/plain": [
       "<Figure size 1000x800 with 2 Axes>"
      ]
     },
     "metadata": {},
     "output_type": "display_data"
    }
   ],
   "source": [
    "#showing the corrlation heatmap\n",
    "import matplotlib.pyplot as plt\n",
    "\n",
    "#increasing the corrolation size\n",
    "plt.figure(figsize=(10,8))\n",
    "sns.heatmap(data=cor, annot=True, cmap='mako', center=0)"
   ]
  },
  {
   "cell_type": "code",
   "execution_count": null,
   "id": "4604cc41",
   "metadata": {},
   "outputs": [],
   "source": []
  }
 ],
 "metadata": {
  "kernelspec": {
   "display_name": "Python 3 (ipykernel)",
   "language": "python",
   "name": "python3"
  },
  "language_info": {
   "codemirror_mode": {
    "name": "ipython",
    "version": 3
   },
   "file_extension": ".py",
   "mimetype": "text/x-python",
   "name": "python",
   "nbconvert_exporter": "python",
   "pygments_lexer": "ipython3",
   "version": "3.10.9"
  }
 },
 "nbformat": 4,
 "nbformat_minor": 5
}
